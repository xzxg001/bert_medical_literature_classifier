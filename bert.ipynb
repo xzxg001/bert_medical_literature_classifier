{
 "cells": [
  {
   "cell_type": "code",
   "execution_count": 17,
   "id": "8db28cf1-0569-4bec-b1d2-24591a670f7e",
   "metadata": {
    "scrolled": true
   },
   "outputs": [],
   "source": [
    "#import 相关库\n",
    "#导入前置依赖\n",
    "import os\n",
    "import pandas as pd\n",
    "import torch\n",
    "from torch import nn\n",
    "from torch.utils.data import Dataset, DataLoader\n",
    "# 用于加载bert模型的分词器\n",
    "from transformers import AutoTokenizer\n",
    "# 用于加载bert模型\n",
    "from transformers import BertModel\n",
    "from pathlib import Path\n",
    "from sklearn.metrics import f1_score, accuracy_score, precision_score\n",
    "\n"
   ]
  },
  {
   "cell_type": "code",
   "execution_count": 18,
   "id": "23cc4518-9ebc-4f7f-aec0-d7e09fce59c2",
   "metadata": {
    "scrolled": true
   },
   "outputs": [
    {
     "name": "stdout",
     "output_type": "stream",
     "text": [
      "Device: cuda\n"
     ]
    }
   ],
   "source": [
    "batch_size = 16\n",
    "# 文本的最大长度\n",
    "text_max_length = 128\n",
    "# 总训练的epochs数，我只是随便定义了个数\n",
    "epochs = 20\n",
    "# 学习率\n",
    "lr = 3e-5\n",
    "# 取多少训练集的数据作为验证集\n",
    "validation_ratio = 0.1\n",
    "device = torch.device('cuda' if torch.cuda.is_available() else 'cpu')\n",
    "\n",
    "# 每多少步，打印一次loss\n",
    "log_per_step = 50\n",
    "\n",
    "\n",
    "\n",
    "# 模型存储路径\n",
    "model_dir = Path(\"./model/bert_checkpoints\")\n",
    "# 如果模型目录不存在，则创建一个\n",
    "os.makedirs(model_dir) if not os.path.exists(model_dir) else ''\n",
    "\n",
    "print(\"Device:\", device)"
   ]
  },
  {
   "cell_type": "code",
   "execution_count": 19,
   "id": "869aa13d-7e2c-4d6c-9cff-7fe19dfeaab1",
   "metadata": {
    "scrolled": true
   },
   "outputs": [],
   "source": [
    "# 读取数据集，进行数据处理\n",
    "\n",
    "pd_train_data = pd.read_csv('/home/zlz/model_rec/data/train.csv')\n",
    "pd_train_data['title'] = pd_train_data['title'].fillna('')\n",
    "pd_train_data['abstract'] = pd_train_data['abstract'].fillna('')\n",
    "\n",
    "test_data = pd.read_csv('/home/zlz/model_rec/data/testB.csv')\n",
    "test_data['title'] = test_data['title'].fillna('')\n",
    "test_data['abstract'] = test_data['abstract'].fillna('')#fillna('') 方法，确保如果某个字段的值是缺失的（NaN），则用空字符串替代\n",
    "pd_train_data['text'] = pd_train_data['title'].fillna('') + ' ' +  pd_train_data['author'].fillna('') + ' ' + pd_train_data['abstract'].fillna('')+ ' ' + pd_train_data['Keywords'].fillna('')\n",
    "test_data['text'] = test_data['title'].fillna('') + ' ' +  test_data['author'].fillna('') + ' ' + test_data['abstract'].fillna('')"
   ]
  },
  {
   "cell_type": "code",
   "execution_count": 20,
   "id": "0f554614-ac95-408a-9a51-8bcf053b4f25",
   "metadata": {
    "scrolled": true
   },
   "outputs": [],
   "source": [
    "# 从训练集中随机采样测试集\n",
    "validation_data = pd_train_data.sample(frac=validation_ratio)\n",
    "train_data = pd_train_data[~pd_train_data.index.isin(validation_data.index)]"
   ]
  },
  {
   "cell_type": "code",
   "execution_count": 21,
   "id": "08b44286-9e29-46af-9de2-39df83bf5bcb",
   "metadata": {
    "scrolled": true
   },
   "outputs": [],
   "source": [
    "# 构建Dataset\n",
    "class MyDataset(Dataset):\n",
    "\n",
    "    def __init__(self, mode='train'):\n",
    "        super(MyDataset, self).__init__()\n",
    "        self.mode = mode\n",
    "        # 拿到对应的数据\n",
    "        if mode == 'train':\n",
    "            self.dataset = train_data\n",
    "        elif mode == 'validation':\n",
    "            self.dataset = validation_data\n",
    "        elif mode == 'test':\n",
    "            # 如果是测试模式，则返回内容和uuid。拿uuid做target主要是方便后面写入结果。\n",
    "            self.dataset = test_data\n",
    "        else:\n",
    "            raise Exception(\"Unknown mode {}\".format(mode))\n",
    "\n",
    "    def __getitem__(self, index):\n",
    "        # 取第index条\n",
    "        data = self.dataset.iloc[index]\n",
    "        # 取其内容\n",
    "        text = data['text']\n",
    "        # 根据状态返回内容\n",
    "        if self.mode == 'test':\n",
    "            # 如果是test，将uuid做为target\n",
    "            label = data['uuid']\n",
    "        else:\n",
    "            label = data['label']\n",
    "        # 返回内容和label\n",
    "        return text, label\n",
    "\n",
    "    def __len__(self):\n",
    "        return len(self.dataset)\n"
   ]
  },
  {
   "cell_type": "code",
   "execution_count": 22,
   "id": "f8325bdf-dba1-4034-88e3-9d9aadf93662",
   "metadata": {
    "scrolled": true
   },
   "outputs": [],
   "source": [
    "train_dataset = MyDataset('train')\n",
    "validation_dataset = MyDataset('validation')"
   ]
  },
  {
   "cell_type": "code",
   "execution_count": 23,
   "id": "94c67423-2a7c-46c4-9832-3d27e31232f6",
   "metadata": {
    "scrolled": true
   },
   "outputs": [
    {
     "data": {
      "text/plain": [
       "('Accessible Visual Artworks for Blind and Visually Impaired People: Comparing a Multimodal Approach with Tactile Graphics Quero, Luis Cavazos; Bartolome, Jorge Iranzo; Cho, Jundong Despite the use of tactile graphics and audio guides, blind and visually impaired people still face challenges to experience and understand visual artworks independently at art exhibitions. Art museums and other art places are increasingly exploring the use of interactive guides to make their collections more accessible. In this work, we describe our approach to an interactive multimodal guide prototype that uses audio and tactile modalities to improve the autonomous access to information and experience of visual artworks. The prototype is composed of a touch-sensitive 2.5D artwork relief model that can be freely explored by touch. Users can access localized verbal descriptions and audio by performing touch gestures on the surface while listening to themed background music along. We present the design requirements derived from a formative study realized with the help of eight blind and visually impaired participants, art museum and gallery staff, and artists. We extended the formative study by organizing two accessible art exhibitions. There, eighteen participants evaluated and compared multimodal and tactile graphic accessible exhibits. Results from a usability survey indicate that our multimodal approach is simple, easy to use, and improves confidence and independence when exploring visual artworks. accessibility technology; multimodal interaction; auditory interface; touch interface; vision impairment',\n",
       " 0)"
      ]
     },
     "execution_count": 23,
     "metadata": {},
     "output_type": "execute_result"
    }
   ],
   "source": [
    "train_dataset.__getitem__(0)"
   ]
  },
  {
   "cell_type": "code",
   "execution_count": 24,
   "id": "6fd45b53-5704-40d8-a995-9294d3cdfff1",
   "metadata": {
    "scrolled": true
   },
   "outputs": [],
   "source": [
    "#获取Bert预训练模型\n",
    "tokenizer = AutoTokenizer.from_pretrained(\"/home/zlz/CodeWithDataset/bert-base-uncased\")"
   ]
  },
  {
   "cell_type": "code",
   "execution_count": 25,
   "id": "7c63c1fd-1547-4e19-b72d-813c1c5bef77",
   "metadata": {
    "scrolled": true
   },
   "outputs": [],
   "source": [
    "#接着构造我们的Dataloader。\n",
    "#我们需要定义一下collate_fn，在其中完成对句子进行编码、填充、组装batch等动作：\n",
    "def collate_fn(batch):\n",
    "    \"\"\"\n",
    "    将一个batch的文本句子转成tensor，并组成batch。\n",
    "    :param batch: 一个batch的句子，例如: [('推文', target), ('推文', target), ...]\n",
    "    :return: 处理后的结果，例如：\n",
    "             src: {'input_ids': tensor([[ 101, ..., 102, 0, 0, ...], ...]), 'attention_mask': tensor([[1, ..., 1, 0, ...], ...])}\n",
    "             target：[1, 1, 0, ...]\n",
    "    \"\"\"\n",
    "    text, label = zip(*batch)\n",
    "    text, label = list(text), list(label)\n",
    "\n",
    "    # src是要送给bert的，所以不需要特殊处理，直接用tokenizer的结果即可\n",
    "    # padding='max_length' 不够长度的进行填充\n",
    "    # truncation=True 长度过长的进行裁剪\n",
    "    src = tokenizer(text, padding='max_length', max_length=text_max_length, return_tensors='pt', truncation=True)\n",
    "\n",
    "    return src, torch.LongTensor(label)"
   ]
  },
  {
   "cell_type": "code",
   "execution_count": 26,
   "id": "7d404e68-4b3f-44f4-b0a1-2e60513ffa52",
   "metadata": {
    "scrolled": true
   },
   "outputs": [
    {
     "name": "stdout",
     "output_type": "stream",
     "text": [
      "inputs: {'input_ids': tensor([[  101,  2019, 12978,  ...,  2064,  2599,   102],\n",
      "        [  101,  4439,  2749,  ...,  4992,  7953,   102],\n",
      "        [  101,  6064,  4053,  ..., 12966,  1010,   102],\n",
      "        ...,\n",
      "        [  101,  2019,  8114,  ...,  1037, 17718,   102],\n",
      "        [  101,  2561, 10752,  ..., 10752,  1997,   102],\n",
      "        [  101,  2019, 19184,  ...,  1999,  2948,   102]]), 'token_type_ids': tensor([[0, 0, 0,  ..., 0, 0, 0],\n",
      "        [0, 0, 0,  ..., 0, 0, 0],\n",
      "        [0, 0, 0,  ..., 0, 0, 0],\n",
      "        ...,\n",
      "        [0, 0, 0,  ..., 0, 0, 0],\n",
      "        [0, 0, 0,  ..., 0, 0, 0],\n",
      "        [0, 0, 0,  ..., 0, 0, 0]]), 'attention_mask': tensor([[1, 1, 1,  ..., 1, 1, 1],\n",
      "        [1, 1, 1,  ..., 1, 1, 1],\n",
      "        [1, 1, 1,  ..., 1, 1, 1],\n",
      "        ...,\n",
      "        [1, 1, 1,  ..., 1, 1, 1],\n",
      "        [1, 1, 1,  ..., 1, 1, 1],\n",
      "        [1, 1, 1,  ..., 1, 1, 1]])}\n",
      "targets: tensor([0, 1, 1, 1, 0, 0, 0, 1, 1, 1, 1, 1, 0, 0, 1, 0])\n"
     ]
    }
   ],
   "source": [
    "train_loader = DataLoader(train_dataset, batch_size=batch_size, shuffle=True, collate_fn=collate_fn)\n",
    "validation_loader = DataLoader(validation_dataset, batch_size=batch_size, shuffle=False, collate_fn=collate_fn)\n",
    "inputs, targets = next(iter(train_loader))\n",
    "print(\"inputs:\", inputs)\n",
    "print(\"targets:\", targets)"
   ]
  },
  {
   "cell_type": "code",
   "execution_count": 27,
   "id": "68b5f354-7416-4b81-ab5a-fca21178aa04",
   "metadata": {
    "scrolled": true
   },
   "outputs": [],
   "source": [
    "#定义预测模型，该模型由bert模型加上最后的预测层组成\n",
    "class MyModel(nn.Module):\n",
    "\n",
    "    def __init__(self):\n",
    "        super(MyModel, self).__init__()\n",
    "\n",
    "        # 加载bert模型\n",
    "        self.bert = BertModel.from_pretrained('/home/zlz/CodeWithDataset/bert-base-uncased', mirror='tuna')\n",
    "\n",
    "        # 最后的预测层\n",
    "        self.predictor = nn.Sequential(\n",
    "            nn.Linear(768, 256),\n",
    "            nn.ReLU(),\n",
    "            nn.Linear(256, 1),\n",
    "            nn.Sigmoid()\n",
    "        )\n",
    "\n",
    "    def forward(self, src):\n",
    "        \"\"\"\n",
    "        :param src: 分词后的推文数据\n",
    "        \"\"\"\n",
    "\n",
    "        # 将src直接序列解包传入bert，因为bert和tokenizer是一套的，所以可以这么做。\n",
    "        # 得到encoder的输出，用最前面[CLS]的输出作为最终线性层的输入\n",
    "        outputs = self.bert(**src).last_hidden_state[:, 0, :]\n",
    "\n",
    "        # 使用线性层来做最终的预测\n",
    "        return self.predictor(outputs)\n"
   ]
  },
  {
   "cell_type": "code",
   "execution_count": 28,
   "id": "61b2e52d-1e4c-4677-8340-24c5d9d2cd8e",
   "metadata": {
    "scrolled": true
   },
   "outputs": [],
   "source": [
    "model = MyModel()\n",
    "model = model.to(device)"
   ]
  },
  {
   "cell_type": "code",
   "execution_count": 29,
   "id": "89ad7dca-1459-4ed3-9345-cd30a2de441b",
   "metadata": {
    "scrolled": true
   },
   "outputs": [],
   "source": [
    "#定义出损失函数和优化器。这里使用Binary Cross Entropy：\n",
    "criteria = nn.BCELoss()\n",
    "optimizer = torch.optim.Adam(model.parameters(), lr=lr)\n",
    "# 由于inputs是字典类型的，定义一个辅助函数帮助to(device)\n",
    "def to_device(dict_tensors):\n",
    "    result_tensors = {}\n",
    "    for key, value in dict_tensors.items():\n",
    "        result_tensors[key] = value.to(device)\n",
    "    return result_tensors\n",
    "#定义一个验证方法，获取到验证集的精准率和loss\n",
    "def validate():\n",
    "    model.eval()\n",
    "    total_loss = 0.\n",
    "    total_correct = 0\n",
    "    predictions = []\n",
    "    targets_list = []\n",
    "\n",
    "    for inputs, targets in validation_loader:\n",
    "        inputs, targets = to_device(inputs), targets.to(device)\n",
    "        outputs = model(inputs)\n",
    "        loss = criteria(outputs.view(-1), targets.float())\n",
    "        total_loss += float(loss)\n",
    "\n",
    "        # 收集预测和实际目标\n",
    "        predicted = (outputs >= 0.5).float().flatten()  # 将输出概率转换为二进制预测\n",
    "        predictions.extend(predicted.cpu().numpy())\n",
    "        targets_list.extend(targets.cpu().numpy())\n",
    "\n",
    "        correct_num = (predicted == targets).sum()\n",
    "        total_correct += correct_num\n",
    "\n",
    "    # 计算准确率、F1分数和精确率\n",
    "    accuracy = total_correct / len(validation_dataset)\n",
    "    avg_loss = total_loss / len(validation_loader)\n",
    "\n",
    "    f1 = f1_score(targets_list, predictions, average='weighted')\n",
    "    precision = precision_score(targets_list, predictions, average='weighted')\n",
    "\n",
    "    return accuracy, avg_loss, f1, precision\n"
   ]
  },
  {
   "cell_type": "code",
   "execution_count": 30,
   "id": "32d07145-1e71-42bd-8a03-96d3b1e156a7",
   "metadata": {
    "scrolled": true
   },
   "outputs": [
    {
     "name": "stdout",
     "output_type": "stream",
     "text": [
      "Epoch 1/20, Step: 49/338, total loss:16.7227\n",
      "Epoch 1/20, Step: 99/338, total loss:8.6191\n",
      "Epoch 1/20, Step: 149/338, total loss:5.8493\n"
     ]
    },
    {
     "name": "stdout",
     "output_type": "stream",
     "text": [
      "Epoch 1/20, Step: 199/338, total loss:5.1746\n",
      "Epoch 1/20, Step: 249/338, total loss:6.5619\n",
      "Epoch 1/20, Step: 299/338, total loss:4.1081\n",
      "Epoch 1, accuracy: 0.9683, validation loss: 0.0891, F1: 0.9683, Precision: 0.9683\n",
      "Epoch 2/20, Step: 11/338, total loss:5.5317\n",
      "Epoch 2/20, Step: 61/338, total loss:3.5329\n",
      "Epoch 2/20, Step: 111/338, total loss:2.8792\n",
      "Epoch 2/20, Step: 161/338, total loss:4.8655\n",
      "Epoch 2/20, Step: 211/338, total loss:4.2276\n",
      "Epoch 2/20, Step: 261/338, total loss:3.6826\n",
      "Epoch 2/20, Step: 311/338, total loss:3.0732\n",
      "Epoch 2, accuracy: 0.9567, validation loss: 0.1112, F1: 0.9567, Precision: 0.9584\n",
      "Epoch 3/20, Step: 23/338, total loss:3.3953\n",
      "Epoch 3/20, Step: 73/338, total loss:2.4658\n",
      "Epoch 3/20, Step: 123/338, total loss:3.8064\n",
      "Epoch 3/20, Step: 173/338, total loss:2.7166\n",
      "Epoch 3/20, Step: 223/338, total loss:2.1820\n",
      "Epoch 3/20, Step: 273/338, total loss:2.0810\n",
      "Epoch 3/20, Step: 323/338, total loss:2.6255\n",
      "Epoch 3, accuracy: 0.9700, validation loss: 0.0887, F1: 0.9700, Precision: 0.9704\n",
      "Epoch 4/20, Step: 35/338, total loss:2.7665\n",
      "Epoch 4/20, Step: 85/338, total loss:2.2388\n",
      "Epoch 4/20, Step: 135/338, total loss:2.3346\n",
      "Epoch 4/20, Step: 185/338, total loss:2.1518\n",
      "Epoch 4/20, Step: 235/338, total loss:1.7438\n",
      "Epoch 4/20, Step: 285/338, total loss:2.2537\n",
      "Epoch 4/20, Step: 335/338, total loss:1.7418\n",
      "Epoch 4, accuracy: 0.9700, validation loss: 0.0857, F1: 0.9700, Precision: 0.9704\n",
      "Epoch 5/20, Step: 47/338, total loss:0.9684\n",
      "Epoch 5/20, Step: 97/338, total loss:0.8721\n",
      "Epoch 5/20, Step: 147/338, total loss:2.8255\n",
      "Epoch 5/20, Step: 197/338, total loss:0.8004\n",
      "Epoch 5/20, Step: 247/338, total loss:1.0939\n",
      "Epoch 5/20, Step: 297/338, total loss:1.0594\n",
      "Epoch 5, accuracy: 0.9700, validation loss: 0.0823, F1: 0.9700, Precision: 0.9702\n",
      "Epoch 6/20, Step: 9/338, total loss:1.8535\n",
      "Epoch 6/20, Step: 59/338, total loss:0.5808\n",
      "Epoch 6/20, Step: 109/338, total loss:1.8056\n",
      "Epoch 6/20, Step: 159/338, total loss:1.1041\n",
      "Epoch 6/20, Step: 209/338, total loss:2.2768\n",
      "Epoch 6/20, Step: 259/338, total loss:1.1007\n",
      "Epoch 6/20, Step: 309/338, total loss:1.3841\n",
      "Epoch 6, accuracy: 0.9583, validation loss: 0.1211, F1: 0.9583, Precision: 0.9590\n",
      "Epoch 7/20, Step: 21/338, total loss:1.9495\n",
      "Epoch 7/20, Step: 71/338, total loss:1.3357\n",
      "Epoch 7/20, Step: 121/338, total loss:1.7044\n",
      "Epoch 7/20, Step: 171/338, total loss:2.3484\n",
      "Epoch 7/20, Step: 221/338, total loss:0.8942\n",
      "Epoch 7/20, Step: 271/338, total loss:1.5165\n",
      "Epoch 7/20, Step: 321/338, total loss:0.3518\n",
      "Epoch 7, accuracy: 0.9667, validation loss: 0.1326, F1: 0.9667, Precision: 0.9668\n",
      "Epoch 8/20, Step: 33/338, total loss:0.3921\n",
      "Epoch 8/20, Step: 83/338, total loss:0.0973\n",
      "Epoch 8/20, Step: 133/338, total loss:0.1839\n",
      "Epoch 8/20, Step: 183/338, total loss:1.2735\n",
      "Epoch 8/20, Step: 233/338, total loss:1.5405\n",
      "Epoch 8/20, Step: 283/338, total loss:0.9091\n",
      "Epoch 8/20, Step: 333/338, total loss:1.0748\n",
      "Epoch 8, accuracy: 0.9700, validation loss: 0.1219, F1: 0.9700, Precision: 0.9702\n",
      "Epoch 9/20, Step: 45/338, total loss:0.5335\n",
      "Epoch 9/20, Step: 95/338, total loss:0.3901\n",
      "Epoch 9/20, Step: 145/338, total loss:0.2934\n",
      "Epoch 9/20, Step: 195/338, total loss:0.6248\n",
      "Epoch 9/20, Step: 245/338, total loss:0.6734\n",
      "Epoch 9/20, Step: 295/338, total loss:0.8571\n",
      "Epoch 9, accuracy: 0.9567, validation loss: 0.1535, F1: 0.9567, Precision: 0.9580\n",
      "Epoch 10/20, Step: 7/338, total loss:0.5935\n",
      "Epoch 10/20, Step: 57/338, total loss:1.0134\n",
      "Epoch 10/20, Step: 107/338, total loss:0.0640\n",
      "Epoch 10/20, Step: 157/338, total loss:0.4134\n",
      "Epoch 10/20, Step: 207/338, total loss:0.3822\n",
      "Epoch 10/20, Step: 257/338, total loss:0.3743\n",
      "Epoch 10/20, Step: 307/338, total loss:0.4355\n",
      "Epoch 10, accuracy: 0.9683, validation loss: 0.1617, F1: 0.9683, Precision: 0.9683\n",
      "Epoch 11/20, Step: 19/338, total loss:0.1382\n",
      "Epoch 11/20, Step: 69/338, total loss:0.0732\n",
      "Epoch 11/20, Step: 119/338, total loss:0.0112\n",
      "Epoch 11/20, Step: 169/338, total loss:0.0219\n",
      "Epoch 11/20, Step: 219/338, total loss:0.8097\n",
      "Epoch 11/20, Step: 269/338, total loss:0.4886\n",
      "Epoch 11/20, Step: 319/338, total loss:0.4885\n",
      "Epoch 11, accuracy: 0.9667, validation loss: 0.1434, F1: 0.9667, Precision: 0.9669\n",
      "Epoch 12/20, Step: 31/338, total loss:0.0962\n",
      "Epoch 12/20, Step: 81/338, total loss:0.8566\n",
      "Epoch 12/20, Step: 131/338, total loss:0.0711\n",
      "Epoch 12/20, Step: 181/338, total loss:0.1235\n",
      "Epoch 12/20, Step: 231/338, total loss:0.7314\n",
      "Epoch 12/20, Step: 281/338, total loss:1.7642\n",
      "Epoch 12/20, Step: 331/338, total loss:0.5977\n",
      "Epoch 12, accuracy: 0.9650, validation loss: 0.2087, F1: 0.9650, Precision: 0.9651\n",
      "Epoch 13/20, Step: 43/338, total loss:0.0532\n",
      "Epoch 13/20, Step: 93/338, total loss:0.7681\n",
      "Epoch 13/20, Step: 143/338, total loss:0.0591\n",
      "Epoch 13/20, Step: 193/338, total loss:0.0693\n",
      "Epoch 13/20, Step: 243/338, total loss:0.3287\n",
      "Epoch 13/20, Step: 293/338, total loss:0.8849\n",
      "Epoch 13, accuracy: 0.9483, validation loss: 0.2035, F1: 0.9483, Precision: 0.9511\n",
      "Epoch 14/20, Step: 5/338, total loss:0.9153\n",
      "Epoch 14/20, Step: 55/338, total loss:0.6842\n",
      "Epoch 14/20, Step: 105/338, total loss:1.2185\n",
      "Epoch 14/20, Step: 155/338, total loss:0.5479\n",
      "Epoch 14/20, Step: 205/338, total loss:0.4445\n",
      "Epoch 14/20, Step: 255/338, total loss:0.4682\n",
      "Epoch 14/20, Step: 305/338, total loss:0.6766\n",
      "Epoch 14, accuracy: 0.9533, validation loss: 0.2297, F1: 0.9533, Precision: 0.9558\n",
      "Epoch 15/20, Step: 17/338, total loss:0.1373\n",
      "Epoch 15/20, Step: 67/338, total loss:0.0310\n",
      "Epoch 15/20, Step: 117/338, total loss:0.0249\n",
      "Epoch 15/20, Step: 167/338, total loss:0.2028\n",
      "Epoch 15/20, Step: 217/338, total loss:0.9200\n",
      "Epoch 15/20, Step: 267/338, total loss:0.0764\n",
      "Epoch 15/20, Step: 317/338, total loss:0.6356\n",
      "Epoch 15, accuracy: 0.9633, validation loss: 0.1274, F1: 0.9633, Precision: 0.9641\n",
      "Epoch 16/20, Step: 29/338, total loss:1.0749\n",
      "Epoch 16/20, Step: 79/338, total loss:0.5295\n",
      "Epoch 16/20, Step: 129/338, total loss:0.1440\n",
      "Epoch 16/20, Step: 179/338, total loss:0.7425\n",
      "Epoch 16/20, Step: 229/338, total loss:0.1269\n",
      "Epoch 16/20, Step: 279/338, total loss:0.8070\n",
      "Epoch 16/20, Step: 329/338, total loss:0.2882\n",
      "Epoch 16, accuracy: 0.9700, validation loss: 0.1412, F1: 0.9700, Precision: 0.9701\n",
      "Epoch 17/20, Step: 41/338, total loss:0.0467\n",
      "Epoch 17/20, Step: 91/338, total loss:0.0303\n",
      "Epoch 17/20, Step: 141/338, total loss:0.0187\n",
      "Epoch 17/20, Step: 191/338, total loss:0.0268\n",
      "Epoch 17/20, Step: 241/338, total loss:0.0791\n",
      "Epoch 17/20, Step: 291/338, total loss:0.2039\n",
      "Epoch 17, accuracy: 0.9750, validation loss: 0.1803, F1: 0.9750, Precision: 0.9750\n",
      "Epoch 18/20, Step: 3/338, total loss:0.0101\n",
      "Epoch 18/20, Step: 53/338, total loss:0.0075\n",
      "Epoch 18/20, Step: 103/338, total loss:0.0059\n",
      "Epoch 18/20, Step: 153/338, total loss:0.0900\n",
      "Epoch 18/20, Step: 203/338, total loss:0.0385\n",
      "Epoch 18/20, Step: 253/338, total loss:0.8931\n",
      "Epoch 18/20, Step: 303/338, total loss:0.2320\n",
      "Epoch 18, accuracy: 0.9733, validation loss: 0.1951, F1: 0.9733, Precision: 0.9733\n",
      "Epoch 19/20, Step: 15/338, total loss:0.0105\n",
      "Epoch 19/20, Step: 65/338, total loss:0.0103\n",
      "Epoch 19/20, Step: 115/338, total loss:0.0071\n",
      "Epoch 19/20, Step: 165/338, total loss:0.0338\n",
      "Epoch 19/20, Step: 215/338, total loss:0.0095\n",
      "Epoch 19/20, Step: 265/338, total loss:0.0072\n",
      "Epoch 19/20, Step: 315/338, total loss:0.0064\n",
      "Epoch 19, accuracy: 0.9683, validation loss: 0.2215, F1: 0.9683, Precision: 0.9685\n",
      "Epoch 20/20, Step: 27/338, total loss:0.0047\n",
      "Epoch 20/20, Step: 77/338, total loss:0.0040\n",
      "Epoch 20/20, Step: 127/338, total loss:0.0038\n",
      "Epoch 20/20, Step: 177/338, total loss:0.0041\n",
      "Epoch 20/20, Step: 227/338, total loss:0.0040\n",
      "Epoch 20/20, Step: 277/338, total loss:0.0034\n",
      "Epoch 20/20, Step: 327/338, total loss:0.0040\n",
      "Epoch 20, accuracy: 0.9700, validation loss: 0.2310, F1: 0.9700, Precision: 0.9700\n"
     ]
    }
   ],
   "source": [
    "# 首先将模型调成训练模式\n",
    "model.train()\n",
    "\n",
    "# 清空一下cuda缓存\n",
    "if torch.cuda.is_available():\n",
    "    torch.cuda.empty_cache()\n",
    "\n",
    "# 定义几个变量，帮助打印loss\n",
    "total_loss = 0.\n",
    "# 记录步数\n",
    "step = 0\n",
    "\n",
    "# 记录在验证集上最好的准确率\n",
    "best_accuracy = 0\n",
    "\n",
    "# 开始训练\n",
    "for epoch in range(epochs):\n",
    "    model.train()\n",
    "    for i, (inputs, targets) in enumerate(train_loader):\n",
    "        # 从batch中拿到训练数据\n",
    "        inputs, targets = to_device(inputs), targets.to(device)\n",
    "        # 传入模型进行前向传递\n",
    "        outputs = model(inputs)\n",
    "        # 计算损失\n",
    "        loss = criteria(outputs.view(-1), targets.float())\n",
    "        loss.backward()\n",
    "        optimizer.step()\n",
    "        optimizer.zero_grad()\n",
    "\n",
    "        total_loss += float(loss)\n",
    "        step += 1\n",
    "\n",
    "        if step % log_per_step == 0:\n",
    "            print(\"Epoch {}/{}, Step: {}/{}, total loss:{:.4f}\".format(epoch+1, epochs, i, len(train_loader), total_loss))\n",
    "            total_loss = 0\n",
    "\n",
    "        del inputs, targets\n",
    "\n",
    "    # 一个epoch后，使用过验证集进行验证\n",
    "    accuracy, validation_loss, f1, precision = validate()\n",
    "    print(\"Epoch {}, accuracy: {:.4f}, validation loss: {:.4f}, F1: {:.4f}, Precision: {:.4f}\".format(epoch+1, accuracy, validation_loss, f1, precision))\n",
    "    torch.save(model, model_dir / f\"model_{epoch}.pt\")\n",
    "\n",
    "\n",
    "    # 保存最好的模型\n",
    "    if accuracy > best_accuracy:\n",
    "        torch.save(model, model_dir / f\"model_best.pt\")\n",
    "        best_accuracy = accuracy\n"
   ]
  },
  {
   "cell_type": "code",
   "execution_count": 31,
   "id": "afc7fb72-9525-4184-8f1c-550adc25c918",
   "metadata": {
    "scrolled": true
   },
   "outputs": [],
   "source": [
    "#加载最好的模型，然后进行测试集的预测\n",
    "model = torch.load(model_dir / f\"model_best.pt\")\n",
    "model = model.eval()\n",
    "test_dataset = MyDataset('test')\n",
    "test_loader = DataLoader(test_dataset, batch_size=batch_size, shuffle=False, collate_fn=collate_fn)"
   ]
  },
  {
   "cell_type": "code",
   "execution_count": 32,
   "id": "6d44fde7-584e-41de-9796-e406db3136af",
   "metadata": {
    "scrolled": true
   },
   "outputs": [],
   "source": [
    "results = []\n",
    "for inputs, ids in test_loader:\n",
    "    outputs = model(inputs.to(device))\n",
    "    outputs = (outputs >= 0.5).int().flatten().tolist()\n",
    "    ids = ids.tolist()\n",
    "    results = results + [(id, result) for result, id in zip(outputs, ids)]\n",
    "test_label = [pair[1] for pair in results]\n",
    "test_data['label'] = test_label\n",
    "test_data['Keywords'] = test_data['title'].fillna('')\n",
    "test_data[['uuid', 'Keywords', 'label']].to_csv('submit_task1.csv', index=None)"
   ]
  }
 ],
 "metadata": {
  "kernelspec": {
   "display_name": "ailab",
   "language": "python",
   "name": "python3"
  },
  "language_info": {
   "codemirror_mode": {
    "name": "ipython",
    "version": 3
   },
   "file_extension": ".py",
   "mimetype": "text/x-python",
   "name": "python",
   "nbconvert_exporter": "python",
   "pygments_lexer": "ipython3",
   "version": "3.9.20"
  }
 },
 "nbformat": 4,
 "nbformat_minor": 5
}
